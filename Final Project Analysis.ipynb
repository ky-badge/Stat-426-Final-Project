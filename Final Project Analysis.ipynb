{
 "cells": [
  {
   "cell_type": "markdown",
   "metadata": {},
   "source": [
    "# Final Project - Patient Data Analysis"
   ]
  },
  {
   "cell_type": "markdown",
   "metadata": {},
   "source": [
    "### Introduction to Data & Project Question\n",
    "\n",
    "*Note: The data utilized for this analysis is private/confidential patient information data. For this reason I have witheld the source of my data.* <br>\n",
    "\n",
    "A health clinic offers different resources for patients who have been in violent and/or abusive situations. These types of situations require therapy and clinical visits in order to heal and to feel normal again in life. Do some types of patients require more sessions/visits than others? Can we utilize the patient information to accurately predict the number of sessions a patient will need? These are the questions of interest. <br>\n",
    "\n",
    "This analysis will look at multiple regression methods to determine what features indicate higher case sessions. The data is from a self-taken survey by each patient that visited the clinic. This survey contains all basic demographic information that would be recorded at a health clinic as well as the type of patient, the advocate or clinic assistant that helped the patient, and other clinical notes.  <br>\n",
    "\n",
    "### Data Cleaning and Feature Engineering\n",
    "\n",
    "*Note: The data cleaning for this dataset became very extensive. To make this report easier to read and more concise I created a separate notebook with the code of the data cleaning. The dataset imported into this notebook is the output of the cleaning notebook.*\n",
    "\n",
    "The dataset originally came in a wide format. Each survey answer was a column. To make the data more usable I grouped answers from the same question together, condensed the columns from wide to long, and then merged them all together with the patient ID number (`Case Number`) as the key ID.  <br>\n",
    "\n",
    "Many questions from the survey were not relevant to this analysis and were dropped (e.g. best communication method and TSA approval). We also created the `Case Count` feature that counts the number of times the patient visited the clinic. The original dataset contained 8 different case types, but because the dataset is small and only contains 343 unique patients, we condensed the case types into 4: <br>\n",
    "\n",
    "    -Violence\n",
    "    -Sexual Assault\n",
    "    -Sexual Harassment\n",
    "    -Other\n",
    "\n",
    "After this process, the cleaned dataset contained demographic information, case/clinic visit information, advocate (the person at the clinic who helped them), the number of case sessions (`Case Count`), and the type of situation the victim had been in (`Case Type Modified`). <br>"
   ]
  },
  {
   "cell_type": "code",
   "execution_count": 121,
   "metadata": {},
   "outputs": [],
   "source": [
    "# All Imported Packages\n",
    "import pandas as pd\n",
    "import numpy as np\n",
    "import seaborn as sns\n",
    "sns.set_style('whitegrid')\n",
    "import matplotlib.pyplot as plt\n",
    "import re\n",
    "\n",
    "# regression stuff\n",
    "from sklearn.model_selection import train_test_split, cross_val_score, KFold, GridSearchCV\n",
    "from sklearn.metrics import mean_squared_error, r2_score, mean_absolute_error\n",
    "from sklearn.linear_model import LinearRegression, Lasso, Ridge\n",
    "from sklearn.svm import SVC\n",
    "from sklearn.neighbors import KNeighborsRegressor\n",
    "from sklearn.tree import DecisionTreeRegressor\n",
    "from sklearn.preprocessing import PolynomialFeatures, StandardScaler, LabelEncoder, OneHotEncoder, FunctionTransformer\n",
    "from sklearn.pipeline import Pipeline, FeatureUnion\n",
    "from sklearn.base import TransformerMixin\n",
    "from warnings import filterwarnings\n",
    "filterwarnings('ignore')"
   ]
  },
  {
   "cell_type": "code",
   "execution_count": 131,
   "metadata": {},
   "outputs": [],
   "source": [
    "# read in data\n",
    "pat_info = pd.read_csv('patient_data.csv')"
   ]
  },
  {
   "cell_type": "code",
   "execution_count": 141,
   "metadata": {},
   "outputs": [
    {
     "data": {
      "text/html": [
       "<div>\n",
       "<style scoped>\n",
       "    .dataframe tbody tr th:only-of-type {\n",
       "        vertical-align: middle;\n",
       "    }\n",
       "\n",
       "    .dataframe tbody tr th {\n",
       "        vertical-align: top;\n",
       "    }\n",
       "\n",
       "    .dataframe thead th {\n",
       "        text-align: right;\n",
       "    }\n",
       "</style>\n",
       "<table border=\"1\" class=\"dataframe\">\n",
       "  <thead>\n",
       "    <tr style=\"text-align: right;\">\n",
       "      <th></th>\n",
       "      <th>Unnamed: 0</th>\n",
       "      <th>Case Number</th>\n",
       "      <th>Enrollment Status</th>\n",
       "      <th>Date of Graduation</th>\n",
       "      <th>College/Major</th>\n",
       "      <th>Place of employment</th>\n",
       "      <th>Type of Contact</th>\n",
       "      <th>Gender</th>\n",
       "      <th>Sexual Orientation</th>\n",
       "      <th>Veteran Status</th>\n",
       "      <th>...</th>\n",
       "      <th>Working for Center for Disability and Access</th>\n",
       "      <th>International Student</th>\n",
       "      <th>Refugee Status/Background</th>\n",
       "      <th>Client status</th>\n",
       "      <th>Advocate</th>\n",
       "      <th>gender</th>\n",
       "      <th>Relation</th>\n",
       "      <th>Case Count</th>\n",
       "      <th>True Type</th>\n",
       "      <th>Case Type Modified</th>\n",
       "    </tr>\n",
       "  </thead>\n",
       "  <tbody>\n",
       "    <tr>\n",
       "      <td>0</td>\n",
       "      <td>0</td>\n",
       "      <td>1</td>\n",
       "      <td>Transferred/left the U</td>\n",
       "      <td>NaN</td>\n",
       "      <td>NaN</td>\n",
       "      <td>NaN</td>\n",
       "      <td>Phone</td>\n",
       "      <td>Prefer not to disclose</td>\n",
       "      <td>Prefer not to disclose</td>\n",
       "      <td>Prefer not to disclose</td>\n",
       "      <td>...</td>\n",
       "      <td>Prefer not to disclose</td>\n",
       "      <td>No</td>\n",
       "      <td>Prefer not to disclose</td>\n",
       "      <td>Inactive (currently not engaged)</td>\n",
       "      <td>A</td>\n",
       "      <td>She/Her</td>\n",
       "      <td>Student</td>\n",
       "      <td>30</td>\n",
       "      <td>Domestic Violence</td>\n",
       "      <td>Violence</td>\n",
       "    </tr>\n",
       "    <tr>\n",
       "      <td>1</td>\n",
       "      <td>1</td>\n",
       "      <td>1</td>\n",
       "      <td>Transferred/left the U</td>\n",
       "      <td>NaN</td>\n",
       "      <td>NaN</td>\n",
       "      <td>NaN</td>\n",
       "      <td>Phone</td>\n",
       "      <td>Prefer not to disclose</td>\n",
       "      <td>Prefer not to disclose</td>\n",
       "      <td>Prefer not to disclose</td>\n",
       "      <td>...</td>\n",
       "      <td>Prefer not to disclose</td>\n",
       "      <td>No</td>\n",
       "      <td>Prefer not to disclose</td>\n",
       "      <td>Inactive (currently not engaged)</td>\n",
       "      <td>A</td>\n",
       "      <td>She/Her</td>\n",
       "      <td>Secondary Survivor (non-campus member)</td>\n",
       "      <td>30</td>\n",
       "      <td>Domestic Violence</td>\n",
       "      <td>Violence</td>\n",
       "    </tr>\n",
       "    <tr>\n",
       "      <td>2</td>\n",
       "      <td>2</td>\n",
       "      <td>2</td>\n",
       "      <td>NaN</td>\n",
       "      <td>NaN</td>\n",
       "      <td>NaN</td>\n",
       "      <td>Academic advising</td>\n",
       "      <td>In person</td>\n",
       "      <td>Female</td>\n",
       "      <td>Prefer not to disclose</td>\n",
       "      <td>No</td>\n",
       "      <td>...</td>\n",
       "      <td>No</td>\n",
       "      <td>No</td>\n",
       "      <td>No</td>\n",
       "      <td>Inactive (currently not engaged)</td>\n",
       "      <td>B</td>\n",
       "      <td>She/Her</td>\n",
       "      <td>Employee</td>\n",
       "      <td>7</td>\n",
       "      <td>Sexual Harassment</td>\n",
       "      <td>Sexual Harassment</td>\n",
       "    </tr>\n",
       "    <tr>\n",
       "      <td>3</td>\n",
       "      <td>3</td>\n",
       "      <td>3</td>\n",
       "      <td>Enrolled</td>\n",
       "      <td>NaN</td>\n",
       "      <td>College of Nursing</td>\n",
       "      <td>Unknown</td>\n",
       "      <td>In person</td>\n",
       "      <td>Female</td>\n",
       "      <td>Straight</td>\n",
       "      <td>No</td>\n",
       "      <td>...</td>\n",
       "      <td>No</td>\n",
       "      <td>No</td>\n",
       "      <td>No</td>\n",
       "      <td>Inactive (currently not engaged)</td>\n",
       "      <td>B</td>\n",
       "      <td>She/Her</td>\n",
       "      <td>Student</td>\n",
       "      <td>4</td>\n",
       "      <td>Unknown</td>\n",
       "      <td>Other</td>\n",
       "    </tr>\n",
       "    <tr>\n",
       "      <td>4</td>\n",
       "      <td>4</td>\n",
       "      <td>3</td>\n",
       "      <td>Enrolled</td>\n",
       "      <td>NaN</td>\n",
       "      <td>College of Nursing</td>\n",
       "      <td>Unknown</td>\n",
       "      <td>In person</td>\n",
       "      <td>Female</td>\n",
       "      <td>Straight</td>\n",
       "      <td>No</td>\n",
       "      <td>...</td>\n",
       "      <td>No</td>\n",
       "      <td>No</td>\n",
       "      <td>No</td>\n",
       "      <td>Inactive (currently not engaged)</td>\n",
       "      <td>B</td>\n",
       "      <td>She/Her</td>\n",
       "      <td>Employee</td>\n",
       "      <td>4</td>\n",
       "      <td>Unknown</td>\n",
       "      <td>Other</td>\n",
       "    </tr>\n",
       "  </tbody>\n",
       "</table>\n",
       "<p>5 rows × 26 columns</p>\n",
       "</div>"
      ],
      "text/plain": [
       "   Unnamed: 0  Case Number       Enrollment Status Date of Graduation  \\\n",
       "0           0            1  Transferred/left the U                NaN   \n",
       "1           1            1  Transferred/left the U                NaN   \n",
       "2           2            2                     NaN                NaN   \n",
       "3           3            3                Enrolled                NaN   \n",
       "4           4            3                Enrolled                NaN   \n",
       "\n",
       "        College/Major Place of employment Type of Contact  \\\n",
       "0                 NaN                 NaN           Phone   \n",
       "1                 NaN                 NaN           Phone   \n",
       "2                 NaN   Academic advising       In person   \n",
       "3  College of Nursing             Unknown       In person   \n",
       "4  College of Nursing             Unknown       In person   \n",
       "\n",
       "                   Gender      Sexual Orientation          Veteran Status  \\\n",
       "0  Prefer not to disclose  Prefer not to disclose  Prefer not to disclose   \n",
       "1  Prefer not to disclose  Prefer not to disclose  Prefer not to disclose   \n",
       "2                  Female  Prefer not to disclose                      No   \n",
       "3                  Female                Straight                      No   \n",
       "4                  Female                Straight                      No   \n",
       "\n",
       "   ... Working for Center for Disability and Access International Student  \\\n",
       "0  ...                       Prefer not to disclose                    No   \n",
       "1  ...                       Prefer not to disclose                    No   \n",
       "2  ...                                           No                    No   \n",
       "3  ...                                           No                    No   \n",
       "4  ...                                           No                    No   \n",
       "\n",
       "  Refugee Status/Background                     Client status Advocate  \\\n",
       "0    Prefer not to disclose  Inactive (currently not engaged)        A   \n",
       "1    Prefer not to disclose  Inactive (currently not engaged)        A   \n",
       "2                        No  Inactive (currently not engaged)        B   \n",
       "3                        No  Inactive (currently not engaged)        B   \n",
       "4                        No  Inactive (currently not engaged)        B   \n",
       "\n",
       "    gender                                Relation Case Count  \\\n",
       "0  She/Her                                 Student         30   \n",
       "1  She/Her  Secondary Survivor (non-campus member)         30   \n",
       "2  She/Her                                Employee          7   \n",
       "3  She/Her                                 Student          4   \n",
       "4  She/Her                                Employee          4   \n",
       "\n",
       "           True Type Case Type Modified  \n",
       "0  Domestic Violence           Violence  \n",
       "1  Domestic Violence           Violence  \n",
       "2  Sexual Harassment  Sexual Harassment  \n",
       "3            Unknown              Other  \n",
       "4            Unknown              Other  \n",
       "\n",
       "[5 rows x 26 columns]"
      ]
     },
     "execution_count": 141,
     "metadata": {},
     "output_type": "execute_result"
    }
   ],
   "source": [
    "pat_info.head()"
   ]
  },
  {
   "cell_type": "markdown",
   "metadata": {},
   "source": [
    "## Exploratory Data Analysis"
   ]
  },
  {
   "cell_type": "markdown",
   "metadata": {},
   "source": [
    "**Case Count by Gender**"
   ]
  },
  {
   "cell_type": "markdown",
   "metadata": {},
   "source": [
    "From the swarm plots, both the spread and count of each category of Gender can be seen. Our data has some class skewness because majority of the observations are female. With the other categories being much smaller, concluding the impact of gender on the case count will be more difficult."
   ]
  },
  {
   "cell_type": "code",
   "execution_count": 138,
   "metadata": {},
   "outputs": [
    {
     "data": {
      "image/png": "[encoded data removed]",
      "text/plain": [
       "<Figure size 432x288 with 1 Axes>"
      ]
     },
     "metadata": {},
     "output_type": "display_data"
    }
   ],
   "source": [
    "# Gender Swarm Plots\n",
    "gen_box = sns.swarmplot(data=pat_info, x='Gender', y='Case Count')\n",
    "gen_box.set_xticklabels(gen_box.get_xticklabels(), rotation=30, ha=\"right\")\n",
    "plt.xlabel('')\n",
    "plt.show() # high female to all other ratio"
   ]
  },
  {
   "cell_type": "markdown",
   "metadata": {},
   "source": [
    "**Case Count by Advocate**"
   ]
  },
  {
   "cell_type": "markdown",
   "metadata": {},
   "source": [
    "From this swarm plot, we can see that majority of the high count cases were with advocates A, C, and D. This could indicate that A, C, and D are important features in determining case count. Practically speaking these advocates could be more experienced and used when clinic cases will require multiple visits. <br>"
   ]
  },
  {
   "cell_type": "code",
   "execution_count": 140,
   "metadata": {
    "scrolled": true
   },
   "outputs": [
    {
     "data": {
      "image/png": "[encoded data removed]",
      "text/plain": [
       "<Figure size 432x288 with 1 Axes>"
      ]
     },
     "metadata": {},
     "output_type": "display_data"
    }
   ],
   "source": [
    "# Advocate Swarm Plots with color being case type\n",
    "sns.swarmplot(data=pat_info, x='Advocate', y='Case Count')\n",
    "plt.show()"
   ]
  },
  {
   "cell_type": "markdown",
   "metadata": {},
   "source": [
    "#### Case Count by Case Type"
   ]
  },
  {
   "cell_type": "markdown",
   "metadata": {},
   "source": [
    "Another question that we hope to answer in this analysis is if certain case types will require more clinic sessions than others. From this swarmplot we can see relatively equal distributions for all 4 case types."
   ]
  },
  {
   "cell_type": "code",
   "execution_count": 136,
   "metadata": {
    "scrolled": true
   },
   "outputs": [
    {
     "data": {
      "image/png": "[encoded data removed]",
      "text/plain": [
       "<Figure size 432x288 with 1 Axes>"
      ]
     },
     "metadata": {},
     "output_type": "display_data"
    }
   ],
   "source": [
    "sns.swarmplot(data=pat_info, x='Case Type Modified', y = 'Case Count')\n",
    "plt.show()"
   ]
  },
  {
   "cell_type": "markdown",
   "metadata": {},
   "source": [
    "#### Overall Case Count Distribution\n",
    "\n",
    "The number of cases per patient follows a right skewed distribution. We can see that majority of patients require under 10 visits and the rest follow a long right tail.\n",
    "\n",
    "This could mean later that the MSE may be high because of a few outliers who are rightly skewed which will greatly penalize the MSE value."
   ]
  },
  {
   "cell_type": "code",
   "execution_count": 129,
   "metadata": {},
   "outputs": [
    {
     "data": {
      "image/png": "[encoded data removed]",
      "text/plain": [
       "<Figure size 432x288 with 1 Axes>"
      ]
     },
     "metadata": {},
     "output_type": "display_data"
    }
   ],
   "source": [
    "sns.distplot(pat_info['Case Count'])\n",
    "plt.show()"
   ]
  },
  {
   "cell_type": "markdown",
   "metadata": {},
   "source": [
    "## From the Features, Can We Predict the Case Count? \n",
    "### Regression Analysis"
   ]
  },
  {
   "cell_type": "markdown",
   "metadata": {},
   "source": [
    "To answer this question we will need to utilize a regression Machine Learning technique. This data has a quantitative target and categorical features. We will look at 4 different models: <br>\n",
    "\n",
    "    -Linear Regression\n",
    "    -Lasso\n",
    "    -KNN\n",
    "    -Decision Tree\n",
    "\n",
    "We chose these models because they can account for our categorical features and quantitative target of interest. To determine the best model we will look at the train MSE and the test MSE. The train MSE shows the mean squared error of our predictions for our train set, and the test MSE shows the mean squared error of our predictions for the test set. Looking at both shows us if our data is overfitting or not. <br>\n",
    "\n",
    "Overfitting means that our model does well at predicting only for the training set (which is used to create our model), but when introduced to new data (test set) it does not predict well. This means we would be over confident in using our model and believe our predictions are more accurate than they truly are. To avoid this problem, we will look at the train MSE and test MSE. Whichever model has the lowest test MSE score will be used for the rest of the analysis. <br>\n",
    "\n",
    "To *truly* identify the best model, we would need to take each model and fine tune them. However, for this analysis we will not be fine tuning each model method. We will utilize the default tuning parameters to calculate the MSE. <br>"
   ]
  },
  {
   "cell_type": "markdown",
   "metadata": {},
   "source": [
    "#### Model Selection"
   ]
  },
  {
   "cell_type": "markdown",
   "metadata": {},
   "source": [
    "Before analyzing, we will need to dummy code all the features that are categorical in order to make it usable for the models. After dummy coding we will then fit each model to the training and testing data sets. In order to make the analysis more robust I utilized KFold cross validation with 8 folds. This will break my data up into 8 different test and train datasets. I then will fit each model to each of the 8 test and train sets and calculate the respective train and test MSE. At the end I will average the test and train MSE for each model. <br>\n",
    "\n",
    "For this analysis we are choosing to only look at the MSE which can be penalized for extremely large outliers. Including other model metrics would be more informative of model fit, however, for simplicity, we are choosing to only look at MSE. <br>"
   ]
  },
  {
   "cell_type": "code",
   "execution_count": 94,
   "metadata": {},
   "outputs": [
    {
     "name": "stdout",
     "output_type": "stream",
     "text": [
      "MSE Values for Different Models: (Test, Train)\n",
      "\n",
      "LinearRegression: 226.826, 0.0\n",
      "Lasso: 131.47, 17.73\n",
      "KNeighborsRegressor: 101.006, 18.057\n",
      "DecisionTreeRegressor: 88.384, 13.543\n"
     ]
    }
   ],
   "source": [
    "# drop Case Number\n",
    "df = pat_info.drop(['Case Number', 'Unnamed: 0'], axis = 1)\n",
    "\n",
    "# dummy code dataset\n",
    "pat_df = pd.get_dummies(df)\n",
    "\n",
    "\n",
    "kf = KFold(n_splits=8, random_state= 426)\n",
    "i = 1\n",
    "mse = []\n",
    "mse_train = []\n",
    "models = [LinearRegression(), Lasso(), KNeighborsRegressor(),\n",
    "          DecisionTreeRegressor()]\n",
    "\n",
    "print(\"MSE Values for Different Models: (Test, Train)\\n\")\n",
    "for model in models:\n",
    "    for train_index, test_index in kf.split(pat_df):\n",
    "        # training data\n",
    "        X_train = pat_df.iloc[train_index].loc[:, pat_df.columns != 'Case Count']\n",
    "        y_train = pat_df.iloc[train_index]['Case Count']\n",
    "        #y_train = np.reshape(-1,1)\n",
    "        \n",
    "        # test data\n",
    "        X_test = pat_df.iloc[test_index].loc[:,pat_df.columns != 'Case Count']\n",
    "        y_test = pat_df.loc[test_index]['Case Count']\n",
    "        \n",
    "        #Train the model\n",
    "        model.fit(X=X_train, y=y_train)\n",
    "        yhat = model.predict(X_test)\n",
    "        yhat_train = model.predict(X_train)\n",
    "        mse.append(mean_squared_error(y_test, yhat))\n",
    "        mse_train.append(mean_squared_error(y_train, yhat_train))\n",
    "    #average them together\n",
    "    mse_avg = np.mean(mse)\n",
    "    mset_avg = np.mean(mse_train)\n",
    "    print(str(model).split('(')[0] + ': ' + str(mse_avg.round(3)) + ', ' + str(mset_avg.round(3)))"
   ]
  },
  {
   "cell_type": "markdown",
   "metadata": {},
   "source": [
    "From the KFold cross validation, the Decision Tree Regression model performed the best. We know that with more tuning of the other parameters and by analyzing other metrics other models could have been better, but for simplicity of this analysis we will utilize a Decision Tree method."
   ]
  },
  {
   "cell_type": "markdown",
   "metadata": {},
   "source": [
    "#### Model and Parameter Tuning"
   ]
  },
  {
   "cell_type": "markdown",
   "metadata": {},
   "source": [
    "To tune my model I will change the minimum samples in leaves parameter. I will look at leaves from 1-30. From there I will fit my model, calculate the model's MSE, and plot the number of leaves by the MSE. From there I will choose the number of leaves that produces the smallest MSE value."
   ]
  },
  {
   "cell_type": "code",
   "execution_count": 95,
   "metadata": {
    "scrolled": true
   },
   "outputs": [
    {
     "data": {
      "image/png": "[encoded data removed]",
      "text/plain": [
       "<Figure size 432x288 with 1 Axes>"
      ]
     },
     "metadata": {
      "needs_background": "light"
     },
     "output_type": "display_data"
    }
   ],
   "source": [
    "##### Decision Tree #####\n",
    "\n",
    "X = pat_df.drop('Case Count',axis=1)\n",
    "y = pat_df['Case Count']\n",
    "mse_cv = []\n",
    "mse_cv_mean = []\n",
    "\n",
    "for p in np.arange(1, 30):\n",
    "    for itrain, itest in kf.split(X):\n",
    "        X_train, X_test, y_train, y_test = X.iloc[itrain], X.iloc[itest], y.iloc[itrain], y.iloc[itest]\n",
    "        dtr = DecisionTreeRegressor(min_samples_leaf = p)\n",
    "        dtr.fit(X_train, y_train)\n",
    "        val = mean_squared_error(y_test, dtr.predict(X_test))\n",
    "        mse_cv_mean.append(val)\n",
    "    mse_cv.append(np.mean(val))\n",
    "    \n",
    "plt.plot(np.arange(1, 30), mse_cv)\n",
    "plt.title('Decision Tree')\n",
    "plt.xlabel('# Minimum Samples in Leaf')\n",
    "plt.ylabel('MSE')\n",
    "s = ('Optimal # Minimum Samples in Leaf: ' + str(mse_cv.index(min(mse_cv)) + 1) + '\\nMSE: ' + str(round(min(mse_cv), 3)))\n",
    "plt.text(33, 15, s)\n",
    "plt.show()"
   ]
  },
  {
   "cell_type": "markdown",
   "metadata": {},
   "source": [
    "From our analysis, we concluded that 17 produced the lowest MSE value. Therefore, we are going to utilize 17 and move forward with the analysis."
   ]
  },
  {
   "cell_type": "markdown",
   "metadata": {},
   "source": [
    "#### My Model"
   ]
  },
  {
   "cell_type": "markdown",
   "metadata": {},
   "source": [
    "Now that we have determined the best model to be a Decision Tree regressor with 17 minimum in sample leaves, we can now fit our model to all of our data. After doing so we will look at other model metrics such as RMSE and MAE. Both of these metrics are important to also be analyzed because the RMSE shows model fit and model standard deviation, and MAE will show us the mean absolute error of our model.  <br>"
   ]
  },
  {
   "cell_type": "code",
   "execution_count": 97,
   "metadata": {},
   "outputs": [
    {
     "name": "stdout",
     "output_type": "stream",
     "text": [
      "MSE: 30.351828845396888\n",
      "RMSE: 5.5092493903795\n",
      "MAE: 3.818357988223761\n"
     ]
    }
   ],
   "source": [
    "X = pat_df.drop('Case Count',axis=1)\n",
    "y = pat_df['Case Count']\n",
    "\n",
    "# instantiate model\n",
    "leaves = 17\n",
    "tree = DecisionTreeRegressor(min_samples_leaf=leaves, random_state = 801)\n",
    "\n",
    "# X is our explanatory from the train, y is our response from the train set\n",
    "X_train, X_test, y_train, y_test = train_test_split(X, y, test_size = .2, random_state=801)\n",
    "\n",
    "scores_mse = cross_val_score(tree, X_train, y_train, cv=20, scoring='neg_mean_squared_error')\n",
    "scores_mae = cross_val_score(tree, X_train, y_train, cv=20, scoring='neg_mean_absolute_error')\n",
    "mse_cv = -1*scores_mse.mean()\n",
    "rmse_cv = np.sqrt(mse_cv)\n",
    "mae_cv = -1*scores_mae.mean()\n",
    "\n",
    "print('MSE: ' + str(mse_cv) + '\\nRMSE: ' + str(rmse_cv) + '\\nMAE: ' + str(mae_cv))\n"
   ]
  },
  {
   "cell_type": "markdown",
   "metadata": {},
   "source": [
    "After tuning our model, we found that the model has an RMSE of approximately 5.51 and MAE of 3.82 which indicates that the model predicts fairly well. The RMSE is a metric for model fit. The lower, the better. The entire range of the target is 38, so if our RMSE is 5.51, then our model does relatively well. The MAE implies that the model is off on average by 3.82 cases which is relatively strong. <br>"
   ]
  },
  {
   "cell_type": "markdown",
   "metadata": {},
   "source": [
    "#### Important Features"
   ]
  },
  {
   "cell_type": "markdown",
   "metadata": {},
   "source": [
    "Next, we will look at which features are the most important when determining the number of sessions a patient will need. To do this we will extract the feature importance scores from our model and compare them to their respective feature and look at the top 10 in descending order."
   ]
  },
  {
   "cell_type": "code",
   "execution_count": 101,
   "metadata": {},
   "outputs": [],
   "source": [
    "# fit model with entire data\n",
    "\n",
    "leaves = 17\n",
    "tree = DecisionTreeRegressor(min_samples_leaf=leaves, random_state = 801)\n",
    "\n",
    "X = pat_df.drop('Case Count', axis = 1)\n",
    "y = pat_df['Case Count']\n",
    "\n",
    "tree.fit(X, y)\n",
    "\n",
    "# Create Important Features Data Frame\n",
    "feats = X.columns\n",
    "imp_scores = pd.Series(tree.feature_importances_)\n",
    "feat_imp = pd.DataFrame()\n",
    "\n",
    "feat_imp['Features'] = feats\n",
    "feat_imp['Importance Score'] = imp_scores"
   ]
  },
  {
   "cell_type": "code",
   "execution_count": 102,
   "metadata": {
    "scrolled": true
   },
   "outputs": [
    {
     "data": {
      "text/html": [
       "<div>\n",
       "<style scoped>\n",
       "    .dataframe tbody tr th:only-of-type {\n",
       "        vertical-align: middle;\n",
       "    }\n",
       "\n",
       "    .dataframe tbody tr th {\n",
       "        vertical-align: top;\n",
       "    }\n",
       "\n",
       "    .dataframe thead th {\n",
       "        text-align: right;\n",
       "    }\n",
       "</style>\n",
       "<table border=\"1\" class=\"dataframe\">\n",
       "  <thead>\n",
       "    <tr style=\"text-align: right;\">\n",
       "      <th></th>\n",
       "      <th>Features</th>\n",
       "      <th>Importance Score</th>\n",
       "    </tr>\n",
       "  </thead>\n",
       "  <tbody>\n",
       "    <tr>\n",
       "      <td>358</td>\n",
       "      <td>Working for Center for Disability and Access_Prefer not to disclose</td>\n",
       "      <td>0.354930</td>\n",
       "    </tr>\n",
       "    <tr>\n",
       "      <td>369</td>\n",
       "      <td>Advocate_A</td>\n",
       "      <td>0.166708</td>\n",
       "    </tr>\n",
       "    <tr>\n",
       "      <td>366</td>\n",
       "      <td>Client status_Active (currently engaged)</td>\n",
       "      <td>0.129085</td>\n",
       "    </tr>\n",
       "    <tr>\n",
       "      <td>305</td>\n",
       "      <td>Veteran Status_No</td>\n",
       "      <td>0.093361</td>\n",
       "    </tr>\n",
       "    <tr>\n",
       "      <td>372</td>\n",
       "      <td>Advocate_D</td>\n",
       "      <td>0.064797</td>\n",
       "    </tr>\n",
       "    <tr>\n",
       "      <td>395</td>\n",
       "      <td>Case Type Modified_Violence</td>\n",
       "      <td>0.048313</td>\n",
       "    </tr>\n",
       "    <tr>\n",
       "      <td>371</td>\n",
       "      <td>Advocate_C</td>\n",
       "      <td>0.038333</td>\n",
       "    </tr>\n",
       "    <tr>\n",
       "      <td>0</td>\n",
       "      <td>Enrollment Status_Enrolled</td>\n",
       "      <td>0.027530</td>\n",
       "    </tr>\n",
       "    <tr>\n",
       "      <td>311</td>\n",
       "      <td>Immigration Status_3</td>\n",
       "      <td>0.026703</td>\n",
       "    </tr>\n",
       "    <tr>\n",
       "      <td>355</td>\n",
       "      <td>Fraternity/Sorority Affiliated?_No</td>\n",
       "      <td>0.025278</td>\n",
       "    </tr>\n",
       "  </tbody>\n",
       "</table>\n",
       "</div>"
      ],
      "text/plain": [
       "                                                                Features  \\\n",
       "358  Working for Center for Disability and Access_Prefer not to disclose   \n",
       "369                                                           Advocate_A   \n",
       "366                             Client status_Active (currently engaged)   \n",
       "305                                                    Veteran Status_No   \n",
       "372                                                           Advocate_D   \n",
       "395                                          Case Type Modified_Violence   \n",
       "371                                                           Advocate_C   \n",
       "0                                             Enrollment Status_Enrolled   \n",
       "311                                                 Immigration Status_3   \n",
       "355                                   Fraternity/Sorority Affiliated?_No   \n",
       "\n",
       "     Importance Score  \n",
       "358          0.354930  \n",
       "369          0.166708  \n",
       "366          0.129085  \n",
       "305          0.093361  \n",
       "372          0.064797  \n",
       "395          0.048313  \n",
       "371          0.038333  \n",
       "0            0.027530  \n",
       "311          0.026703  \n",
       "355          0.025278  "
      ]
     },
     "execution_count": 102,
     "metadata": {},
     "output_type": "execute_result"
    }
   ],
   "source": [
    "top_10 = feat_imp.sort_values('Importance Score', ascending=False).head(10)\n",
    "\n",
    "top_10"
   ]
  },
  {
   "cell_type": "markdown",
   "metadata": {},
   "source": [
    "The top 10 features show that those who worked with advocate A, D, or C had higher case counts. Also those whose case type was 'Violence' experienced longer case sessions. <br>\n",
    "\n",
    "The number 1 most important feature is surprising and shows bias in the data. If someone chooses that they prefer not to disclose if they work for the Center for Disability should not be a strong determining feature. <br>\n",
    "\n",
    "To make this model stronger and more informative, more questions should be dropped from the dataset. Only questions of importance should be kept. <br>"
   ]
  },
  {
   "cell_type": "markdown",
   "metadata": {},
   "source": [
    "#### Summary of Model Performance"
   ]
  },
  {
   "cell_type": "markdown",
   "metadata": {},
   "source": [
    "In summary the model performed strongly for this dataset. This model can be used to predict the number of cases a patient will have when coming to the clinic with relatively low error. <br>\n",
    "\n",
    "However, the model may not do well practically. Many of the top 10 features such as Enrollment Status and Veteran Status should not be strong features since majority of the observations in this dataset were of the same Enrollment Status and Veteran Status. <br>"
   ]
  },
  {
   "cell_type": "markdown",
   "metadata": {},
   "source": [
    "### Conclusions & Next Steps"
   ]
  },
  {
   "cell_type": "markdown",
   "metadata": {},
   "source": [
    "In conclusion of this analysis, the model is strong for its own dataset, but practically it is weak and subject to class skewness in the data. Many of the categories are heavily skewed in one class and therefore are affecting the analysis. For a more robust analysis, a more well rounded dataset with more equal quanitities in each categorical feature would be needed. <br>\n",
    "\n",
    "Of the top 10 features of the analysis, patients listed as having been victims of violence tended to have more case sessions. This would be an interesting analysis to research more. For this analysis we were limited on some features and condensed the case types into 4 groups from 8. With more data, the case types could be separated and utilized individually in the analysis. This could then answer if some case types will require more case sessions than others. <br>\n",
    "\n",
    "A Decision Tree model can be finnicky and have varying results with small changes. An ensemble method might be a better approach to having a more robust model. A future analysis could use an ADA or Gradient Boosting method or a type of Bagging to have an even better more accurate model. <br>\n",
    "\n",
    "This dataset could also be utilized for a classification problem. Instead of predicting the number of cases, the data could be utilized to predict the case type of a patient given the data and the number of sessions the patient has had. <br>\n",
    "\n",
    "A cluster analysis could also be utilized to retrieve more information from this dataset. The cluster analysis could be used to identify similarities in features among patients and case types. <br>"
   ]
  }
 ],
 "metadata": {
  "kernelspec": {
   "display_name": "Python 3",
   "language": "python",
   "name": "python3"
  },
  "language_info": {
   "codemirror_mode": {
    "name": "ipython",
    "version": 3
   },
   "file_extension": ".py",
   "mimetype": "text/x-python",
   "name": "python",
   "nbconvert_exporter": "python",
   "pygments_lexer": "ipython3",
   "version": "3.7.4"
  }
 },
 "nbformat": 4,
 "nbformat_minor": 2
}
