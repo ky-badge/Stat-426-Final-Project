{
 "cells": [
  {
   "cell_type": "code",
   "execution_count": 1,
   "metadata": {},
   "outputs": [],
   "source": [
    "import pandas as pd\n",
    "import numpy as np\n",
    "import seaborn as sns\n",
    "import warnings\n",
    "import re"
   ]
  },
  {
   "cell_type": "code",
   "execution_count": 2,
   "metadata": {},
   "outputs": [],
   "source": [
    "warnings.filterwarnings('ignore')\n",
    "\n",
    "advocacy = pd.read_csv('~/Documents/StatisticsBYU/426/426-Final-Project/AdvocacyRecordsDatab_DATA_LABELS_2020-11-13_0915.csv')"
   ]
  },
  {
   "cell_type": "code",
   "execution_count": 3,
   "metadata": {},
   "outputs": [
    {
     "data": {
      "text/plain": [
       "343"
      ]
     },
     "execution_count": 3,
     "metadata": {},
     "output_type": "execute_result"
    }
   ],
   "source": [
    "len(advocacy['Case Number'].unique()) #how many unique patients"
   ]
  },
  {
   "cell_type": "markdown",
   "metadata": {},
   "source": [
    "### Data Cleaning"
   ]
  },
  {
   "cell_type": "code",
   "execution_count": 4,
   "metadata": {},
   "outputs": [
    {
     "data": {
      "text/plain": [
       "(2231, 208)"
      ]
     },
     "execution_count": 4,
     "metadata": {},
     "output_type": "execute_result"
    }
   ],
   "source": [
    "# Dropping unneeded columns\n",
    "advocacy_dirty = advocacy.iloc[:, :-50] #drop last 50 columns\n",
    "\n",
    "pat_info = advocacy_dirty.drop(columns=['Best way to contact (choice=Phone)', \n",
    "                         'Best way to contact (choice=Email)', \n",
    "                         'Best way to contact (choice=Text Message)', \n",
    "                         'Best way to contact (choice=Other)', \n",
    "                         'Describe other',\n",
    "                         'New client?', \n",
    "                         'Intake', \n",
    "                         'Would the client like to be added to the CSW email list?',\n",
    "                         'How did you hear about us? (choice=Self)',\n",
    "                         'How did you hear about us? (choice=OEO)',\n",
    "                         'How did you hear about us? (choice=ODOS)',\n",
    "                         'How did you hear about us? (choice=Advocate Website (intake form))',\n",
    "                         'How did you hear about us? (choice=UCC)',\n",
    "                         'How did you hear about us? (choice=WRC)',\n",
    "                         'How did you hear about us? (choice=Friend)',\n",
    "                         'How did you hear about us? (choice=HR)',\n",
    "                         'How did you hear about us? (choice=Unknown)',\n",
    "                         'How did you hear about us? (choice=Other)', \n",
    "                         'Please specify other.1',\n",
    "                         'Other', # gender\n",
    "                         'Other.1', # sexuality\n",
    "                         'Other.2', # ethnicity\n",
    "                         'Other.3', # other vet status\n",
    "                         'Other.4', # immigration status other\n",
    "                         'Specify greek affiliation',\n",
    "                         'Country of origin (if known).1',\n",
    "                         'Complete?' ,\n",
    "                         'Specify first language',\n",
    "                         'Specify athletics affiliation',\n",
    "                         'Please specify other', \n",
    "                         'Has TSA Informed Consent Form been signed and received from the client?'])\n",
    "\n",
    "pat_info.shape"
   ]
  },
  {
   "cell_type": "code",
   "execution_count": 5,
   "metadata": {},
   "outputs": [
    {
     "data": {
      "text/html": [
       "<div>\n",
       "<style scoped>\n",
       "    .dataframe tbody tr th:only-of-type {\n",
       "        vertical-align: middle;\n",
       "    }\n",
       "\n",
       "    .dataframe tbody tr th {\n",
       "        vertical-align: top;\n",
       "    }\n",
       "\n",
       "    .dataframe thead th {\n",
       "        text-align: right;\n",
       "    }\n",
       "</style>\n",
       "<table border=\"1\" class=\"dataframe\">\n",
       "  <thead>\n",
       "    <tr style=\"text-align: right;\">\n",
       "      <th></th>\n",
       "      <th>Case Number</th>\n",
       "      <th>True Type</th>\n",
       "    </tr>\n",
       "  </thead>\n",
       "  <tbody>\n",
       "    <tr>\n",
       "      <td>1</td>\n",
       "      <td>1</td>\n",
       "      <td>Domestic Violence</td>\n",
       "    </tr>\n",
       "    <tr>\n",
       "      <td>52</td>\n",
       "      <td>5</td>\n",
       "      <td>Domestic Violence</td>\n",
       "    </tr>\n",
       "    <tr>\n",
       "      <td>69</td>\n",
       "      <td>8</td>\n",
       "      <td>Domestic Violence</td>\n",
       "    </tr>\n",
       "    <tr>\n",
       "      <td>78</td>\n",
       "      <td>11</td>\n",
       "      <td>Domestic Violence</td>\n",
       "    </tr>\n",
       "    <tr>\n",
       "      <td>117</td>\n",
       "      <td>17</td>\n",
       "      <td>Domestic Violence</td>\n",
       "    </tr>\n",
       "  </tbody>\n",
       "</table>\n",
       "</div>"
      ],
      "text/plain": [
       "     Case Number          True Type\n",
       "1              1  Domestic Violence\n",
       "52             5  Domestic Violence\n",
       "69             8  Domestic Violence\n",
       "78            11  Domestic Violence\n",
       "117           17  Domestic Violence"
      ]
     },
     "execution_count": 5,
     "metadata": {},
     "output_type": "execute_result"
    }
   ],
   "source": [
    "# case type\n",
    "cases = advocacy_dirty.iloc[:, [0, 71, 72, 73, 74, 75, 76, 77, 78, 79, 80]]\n",
    "cases.head()\n",
    "\n",
    "case_type = pd.melt(cases, id_vars=['Case Number'], \n",
    "        value_vars=['Case type (choice=Domestic Violence)', \n",
    "                    'Case type (choice=Dating Violence)', \n",
    "                    'Case type (choice=Sexual Assault)', \n",
    "                    'Case type (choice=Rape)', \n",
    "                    'Case type (choice=Stalking)', \n",
    "                    'Case type (choice=Sexual Harassment)', \n",
    "                    'Case type (choice=Trafficking)', \n",
    "                    'Case type (choice=Family Violence)', \n",
    "                    'Case type (choice=Unknown)', \n",
    "                    'Case type (choice=Other)'], \n",
    "        var_name = 'Case Type',\n",
    "        value_name='Value')\n",
    "\n",
    "case_check = case_type[case_type['Value'] == 'Checked'] # only keep when it is 'checked'\n",
    "case_check['True Type'] = case_check['Case Type'].apply(lambda x: re.split('=',x)[1][0:-1]) # split and only keep affiliation, remove last parentheses\n",
    "ct_df = case_check.drop(columns=['Case Type', 'Value']) #drop unneeded columns\n",
    "ct_clean = ct_df.drop_duplicates('Case Number')\n",
    "ct_clean.head()"
   ]
  },
  {
   "cell_type": "code",
   "execution_count": 6,
   "metadata": {},
   "outputs": [],
   "source": [
    "# combine some case types\n",
    "def case_combine(case):\n",
    "    if (str(case) == 'Domestic Violence') or (str(case) == 'Dating Violence') or (str(case) == 'Family Violence'):\n",
    "        return('Violence')\n",
    "    elif str(case) == 'Sexual Assault' or str(case) == 'Rape':\n",
    "        return('Sexual Assault')\n",
    "    elif str(case) == 'Stalking' or str(case) == 'Sexual Harassment':\n",
    "        return('Sexual Harassment')\n",
    "    else:\n",
    "        return('Other')"
   ]
  },
  {
   "cell_type": "code",
   "execution_count": 7,
   "metadata": {},
   "outputs": [],
   "source": [
    "ct_clean['Case Type Modified'] = ct_clean['True Type'].apply(lambda x: case_combine(x))"
   ]
  },
  {
   "cell_type": "code",
   "execution_count": 8,
   "metadata": {},
   "outputs": [
    {
     "data": {
      "text/plain": [
       "343"
      ]
     },
     "execution_count": 8,
     "metadata": {},
     "output_type": "execute_result"
    }
   ],
   "source": [
    "# take the first rows of each case number with patient info\n",
    "first_rows = advocacy_dirty[pd.isna(advocacy_dirty['Repeat Instance'])]\n",
    "len(advocacy_dirty['Case Number'].unique()) #number of unique patients"
   ]
  },
  {
   "cell_type": "code",
   "execution_count": 9,
   "metadata": {},
   "outputs": [
    {
     "data": {
      "text/html": [
       "<div>\n",
       "<style scoped>\n",
       "    .dataframe tbody tr th:only-of-type {\n",
       "        vertical-align: middle;\n",
       "    }\n",
       "\n",
       "    .dataframe tbody tr th {\n",
       "        vertical-align: top;\n",
       "    }\n",
       "\n",
       "    .dataframe thead th {\n",
       "        text-align: right;\n",
       "    }\n",
       "</style>\n",
       "<table border=\"1\" class=\"dataframe\">\n",
       "  <thead>\n",
       "    <tr style=\"text-align: right;\">\n",
       "      <th></th>\n",
       "      <th>Case Number</th>\n",
       "      <th>Case Count</th>\n",
       "    </tr>\n",
       "  </thead>\n",
       "  <tbody>\n",
       "    <tr>\n",
       "      <td>0</td>\n",
       "      <td>1</td>\n",
       "      <td>30</td>\n",
       "    </tr>\n",
       "    <tr>\n",
       "      <td>1</td>\n",
       "      <td>2</td>\n",
       "      <td>7</td>\n",
       "    </tr>\n",
       "    <tr>\n",
       "      <td>2</td>\n",
       "      <td>3</td>\n",
       "      <td>4</td>\n",
       "    </tr>\n",
       "    <tr>\n",
       "      <td>3</td>\n",
       "      <td>4</td>\n",
       "      <td>10</td>\n",
       "    </tr>\n",
       "    <tr>\n",
       "      <td>4</td>\n",
       "      <td>5</td>\n",
       "      <td>5</td>\n",
       "    </tr>\n",
       "    <tr>\n",
       "      <td>...</td>\n",
       "      <td>...</td>\n",
       "      <td>...</td>\n",
       "    </tr>\n",
       "    <tr>\n",
       "      <td>338</td>\n",
       "      <td>340</td>\n",
       "      <td>3</td>\n",
       "    </tr>\n",
       "    <tr>\n",
       "      <td>339</td>\n",
       "      <td>341</td>\n",
       "      <td>2</td>\n",
       "    </tr>\n",
       "    <tr>\n",
       "      <td>340</td>\n",
       "      <td>342</td>\n",
       "      <td>3</td>\n",
       "    </tr>\n",
       "    <tr>\n",
       "      <td>341</td>\n",
       "      <td>343</td>\n",
       "      <td>2</td>\n",
       "    </tr>\n",
       "    <tr>\n",
       "      <td>342</td>\n",
       "      <td>344</td>\n",
       "      <td>2</td>\n",
       "    </tr>\n",
       "  </tbody>\n",
       "</table>\n",
       "<p>343 rows × 2 columns</p>\n",
       "</div>"
      ],
      "text/plain": [
       "     Case Number  Case Count\n",
       "0              1          30\n",
       "1              2           7\n",
       "2              3           4\n",
       "3              4          10\n",
       "4              5           5\n",
       "..           ...         ...\n",
       "338          340           3\n",
       "339          341           2\n",
       "340          342           3\n",
       "341          343           2\n",
       "342          344           2\n",
       "\n",
       "[343 rows x 2 columns]"
      ]
     },
     "execution_count": 9,
     "metadata": {},
     "output_type": "execute_result"
    }
   ],
   "source": [
    "# count the number of times a patient came to the office\n",
    "case_count = advocacy_dirty.groupby('Case Number')['Case Number'].count()\n",
    "case_df = pd.DataFrame(case_count)\n",
    "case_df.columns = ['Case Count']\n",
    "case_df.reset_index()"
   ]
  },
  {
   "cell_type": "code",
   "execution_count": 10,
   "metadata": {},
   "outputs": [],
   "source": [
    "# drop any columns that were completely NaNs\n",
    "patient_info = first_rows.loc[:,first_rows.count()>0]\n",
    "\n",
    "cols = first_rows.count()>0"
   ]
  },
  {
   "cell_type": "code",
   "execution_count": 11,
   "metadata": {},
   "outputs": [
    {
     "data": {
      "text/plain": [
       "(343, 63)"
      ]
     },
     "execution_count": 11,
     "metadata": {},
     "output_type": "execute_result"
    }
   ],
   "source": [
    "pat_info = first_rows.loc[:,first_rows.count()>0]\n",
    "pat_info.shape"
   ]
  },
  {
   "cell_type": "code",
   "execution_count": 12,
   "metadata": {},
   "outputs": [
    {
     "data": {
      "text/html": [
       "<div>\n",
       "<style scoped>\n",
       "    .dataframe tbody tr th:only-of-type {\n",
       "        vertical-align: middle;\n",
       "    }\n",
       "\n",
       "    .dataframe tbody tr th {\n",
       "        vertical-align: top;\n",
       "    }\n",
       "\n",
       "    .dataframe thead th {\n",
       "        text-align: right;\n",
       "    }\n",
       "</style>\n",
       "<table border=\"1\" class=\"dataframe\">\n",
       "  <thead>\n",
       "    <tr style=\"text-align: right;\">\n",
       "      <th></th>\n",
       "      <th>University Affiliation (choice=Student)</th>\n",
       "      <th>University Affiliation (choice=Employee)</th>\n",
       "      <th>University Affiliation (choice=Faculty)</th>\n",
       "      <th>University Affiliation (choice=Secondary Survivor)</th>\n",
       "      <th>University Affiliation (choice=Secondary Survivor (non-campus member))</th>\n",
       "      <th>University Affiliation (choice=Former Student)</th>\n",
       "      <th>University Affiliation (choice=Other)</th>\n",
       "    </tr>\n",
       "  </thead>\n",
       "  <tbody>\n",
       "    <tr>\n",
       "      <td>0</td>\n",
       "      <td>Checked</td>\n",
       "      <td>Unchecked</td>\n",
       "      <td>Unchecked</td>\n",
       "      <td>Unchecked</td>\n",
       "      <td>Checked</td>\n",
       "      <td>Unchecked</td>\n",
       "      <td>Unchecked</td>\n",
       "    </tr>\n",
       "    <tr>\n",
       "      <td>30</td>\n",
       "      <td>Unchecked</td>\n",
       "      <td>Checked</td>\n",
       "      <td>Unchecked</td>\n",
       "      <td>Unchecked</td>\n",
       "      <td>Unchecked</td>\n",
       "      <td>Unchecked</td>\n",
       "      <td>Unchecked</td>\n",
       "    </tr>\n",
       "    <tr>\n",
       "      <td>37</td>\n",
       "      <td>Checked</td>\n",
       "      <td>Checked</td>\n",
       "      <td>Unchecked</td>\n",
       "      <td>Unchecked</td>\n",
       "      <td>Unchecked</td>\n",
       "      <td>Unchecked</td>\n",
       "      <td>Unchecked</td>\n",
       "    </tr>\n",
       "    <tr>\n",
       "      <td>41</td>\n",
       "      <td>Checked</td>\n",
       "      <td>Unchecked</td>\n",
       "      <td>Unchecked</td>\n",
       "      <td>Unchecked</td>\n",
       "      <td>Unchecked</td>\n",
       "      <td>Unchecked</td>\n",
       "      <td>Unchecked</td>\n",
       "    </tr>\n",
       "    <tr>\n",
       "      <td>51</td>\n",
       "      <td>Checked</td>\n",
       "      <td>Checked</td>\n",
       "      <td>Unchecked</td>\n",
       "      <td>Unchecked</td>\n",
       "      <td>Unchecked</td>\n",
       "      <td>Unchecked</td>\n",
       "      <td>Unchecked</td>\n",
       "    </tr>\n",
       "    <tr>\n",
       "      <td>...</td>\n",
       "      <td>...</td>\n",
       "      <td>...</td>\n",
       "      <td>...</td>\n",
       "      <td>...</td>\n",
       "      <td>...</td>\n",
       "      <td>...</td>\n",
       "      <td>...</td>\n",
       "    </tr>\n",
       "    <tr>\n",
       "      <td>2219</td>\n",
       "      <td>Checked</td>\n",
       "      <td>Unchecked</td>\n",
       "      <td>Unchecked</td>\n",
       "      <td>Unchecked</td>\n",
       "      <td>Unchecked</td>\n",
       "      <td>Unchecked</td>\n",
       "      <td>Unchecked</td>\n",
       "    </tr>\n",
       "    <tr>\n",
       "      <td>2222</td>\n",
       "      <td>Checked</td>\n",
       "      <td>Unchecked</td>\n",
       "      <td>Unchecked</td>\n",
       "      <td>Unchecked</td>\n",
       "      <td>Unchecked</td>\n",
       "      <td>Unchecked</td>\n",
       "      <td>Unchecked</td>\n",
       "    </tr>\n",
       "    <tr>\n",
       "      <td>2224</td>\n",
       "      <td>Checked</td>\n",
       "      <td>Unchecked</td>\n",
       "      <td>Unchecked</td>\n",
       "      <td>Unchecked</td>\n",
       "      <td>Unchecked</td>\n",
       "      <td>Unchecked</td>\n",
       "      <td>Unchecked</td>\n",
       "    </tr>\n",
       "    <tr>\n",
       "      <td>2227</td>\n",
       "      <td>Checked</td>\n",
       "      <td>Unchecked</td>\n",
       "      <td>Unchecked</td>\n",
       "      <td>Unchecked</td>\n",
       "      <td>Unchecked</td>\n",
       "      <td>Unchecked</td>\n",
       "      <td>Unchecked</td>\n",
       "    </tr>\n",
       "    <tr>\n",
       "      <td>2229</td>\n",
       "      <td>Checked</td>\n",
       "      <td>Unchecked</td>\n",
       "      <td>Unchecked</td>\n",
       "      <td>Unchecked</td>\n",
       "      <td>Unchecked</td>\n",
       "      <td>Unchecked</td>\n",
       "      <td>Unchecked</td>\n",
       "    </tr>\n",
       "  </tbody>\n",
       "</table>\n",
       "<p>343 rows × 7 columns</p>\n",
       "</div>"
      ],
      "text/plain": [
       "     University Affiliation (choice=Student)  \\\n",
       "0                                    Checked   \n",
       "30                                 Unchecked   \n",
       "37                                   Checked   \n",
       "41                                   Checked   \n",
       "51                                   Checked   \n",
       "...                                      ...   \n",
       "2219                                 Checked   \n",
       "2222                                 Checked   \n",
       "2224                                 Checked   \n",
       "2227                                 Checked   \n",
       "2229                                 Checked   \n",
       "\n",
       "     University Affiliation (choice=Employee)  \\\n",
       "0                                   Unchecked   \n",
       "30                                    Checked   \n",
       "37                                    Checked   \n",
       "41                                  Unchecked   \n",
       "51                                    Checked   \n",
       "...                                       ...   \n",
       "2219                                Unchecked   \n",
       "2222                                Unchecked   \n",
       "2224                                Unchecked   \n",
       "2227                                Unchecked   \n",
       "2229                                Unchecked   \n",
       "\n",
       "     University Affiliation (choice=Faculty)  \\\n",
       "0                                  Unchecked   \n",
       "30                                 Unchecked   \n",
       "37                                 Unchecked   \n",
       "41                                 Unchecked   \n",
       "51                                 Unchecked   \n",
       "...                                      ...   \n",
       "2219                               Unchecked   \n",
       "2222                               Unchecked   \n",
       "2224                               Unchecked   \n",
       "2227                               Unchecked   \n",
       "2229                               Unchecked   \n",
       "\n",
       "     University Affiliation (choice=Secondary Survivor)  \\\n",
       "0                                             Unchecked   \n",
       "30                                            Unchecked   \n",
       "37                                            Unchecked   \n",
       "41                                            Unchecked   \n",
       "51                                            Unchecked   \n",
       "...                                                 ...   \n",
       "2219                                          Unchecked   \n",
       "2222                                          Unchecked   \n",
       "2224                                          Unchecked   \n",
       "2227                                          Unchecked   \n",
       "2229                                          Unchecked   \n",
       "\n",
       "     University Affiliation (choice=Secondary Survivor (non-campus member))  \\\n",
       "0                                               Checked                       \n",
       "30                                            Unchecked                       \n",
       "37                                            Unchecked                       \n",
       "41                                            Unchecked                       \n",
       "51                                            Unchecked                       \n",
       "...                                                 ...                       \n",
       "2219                                          Unchecked                       \n",
       "2222                                          Unchecked                       \n",
       "2224                                          Unchecked                       \n",
       "2227                                          Unchecked                       \n",
       "2229                                          Unchecked                       \n",
       "\n",
       "     University Affiliation (choice=Former Student)  \\\n",
       "0                                         Unchecked   \n",
       "30                                        Unchecked   \n",
       "37                                        Unchecked   \n",
       "41                                        Unchecked   \n",
       "51                                        Unchecked   \n",
       "...                                             ...   \n",
       "2219                                      Unchecked   \n",
       "2222                                      Unchecked   \n",
       "2224                                      Unchecked   \n",
       "2227                                      Unchecked   \n",
       "2229                                      Unchecked   \n",
       "\n",
       "     University Affiliation (choice=Other)  \n",
       "0                                Unchecked  \n",
       "30                               Unchecked  \n",
       "37                               Unchecked  \n",
       "41                               Unchecked  \n",
       "51                               Unchecked  \n",
       "...                                    ...  \n",
       "2219                             Unchecked  \n",
       "2222                             Unchecked  \n",
       "2224                             Unchecked  \n",
       "2227                             Unchecked  \n",
       "2229                             Unchecked  \n",
       "\n",
       "[343 rows x 7 columns]"
      ]
     },
     "execution_count": 12,
     "metadata": {},
     "output_type": "execute_result"
    }
   ],
   "source": [
    "pat_info.iloc[:, 8:15]"
   ]
  },
  {
   "cell_type": "code",
   "execution_count": 13,
   "metadata": {
    "scrolled": true
   },
   "outputs": [],
   "source": [
    "# look at what is notnull\n",
    "#pat_info[pat_info['Limited English proficiency (from advocate\\'s observation/discretion) '].notnull()]['Limited English proficiency (from advocate\\'s observation/discretion) ']"
   ]
  },
  {
   "cell_type": "code",
   "execution_count": 14,
   "metadata": {},
   "outputs": [],
   "source": [
    "import re\n",
    "# clean up the different pronoun levels\n",
    "# pat_info.Pronouns.unique() # she, he, they, not dicslosed\n",
    "\n",
    "gender = str()\n",
    "gender_list = []\n",
    "\n",
    "def gender_ident(x):\n",
    "    if re.search('she', str(x)) or re.search('her', str(x)):\n",
    "        gender = 'She/Her'\n",
    "    elif re.search('he', str(x)) or re.search('him', str(x)):\n",
    "        gender = 'He/Him'\n",
    "    elif re.search('they', str(x)) or re.search('them', str(x)):\n",
    "        gender = 'They/Them'\n",
    "    else:\n",
    "        gender = 'NaN'\n",
    "    return(gender) #do return not print so you can save the new gender\n",
    "\n",
    "#add cleaned up pronouns as assumed gender\n",
    "pat_info['gender'] = pat_info['Pronouns'].apply(lambda x : gender_ident(x))\n",
    "\n"
   ]
  },
  {
   "cell_type": "code",
   "execution_count": 15,
   "metadata": {},
   "outputs": [
    {
     "data": {
      "text/html": [
       "<div>\n",
       "<style scoped>\n",
       "    .dataframe tbody tr th:only-of-type {\n",
       "        vertical-align: middle;\n",
       "    }\n",
       "\n",
       "    .dataframe tbody tr th {\n",
       "        vertical-align: top;\n",
       "    }\n",
       "\n",
       "    .dataframe thead th {\n",
       "        text-align: right;\n",
       "    }\n",
       "</style>\n",
       "<table border=\"1\" class=\"dataframe\">\n",
       "  <thead>\n",
       "    <tr style=\"text-align: right;\">\n",
       "      <th></th>\n",
       "      <th>Case Number</th>\n",
       "      <th>Relation</th>\n",
       "    </tr>\n",
       "  </thead>\n",
       "  <tbody>\n",
       "    <tr>\n",
       "      <td>0</td>\n",
       "      <td>1</td>\n",
       "      <td>Student</td>\n",
       "    </tr>\n",
       "    <tr>\n",
       "      <td>2</td>\n",
       "      <td>3</td>\n",
       "      <td>Student</td>\n",
       "    </tr>\n",
       "    <tr>\n",
       "      <td>3</td>\n",
       "      <td>4</td>\n",
       "      <td>Student</td>\n",
       "    </tr>\n",
       "    <tr>\n",
       "      <td>4</td>\n",
       "      <td>5</td>\n",
       "      <td>Student</td>\n",
       "    </tr>\n",
       "    <tr>\n",
       "      <td>5</td>\n",
       "      <td>6</td>\n",
       "      <td>Student</td>\n",
       "    </tr>\n",
       "  </tbody>\n",
       "</table>\n",
       "</div>"
      ],
      "text/plain": [
       "   Case Number Relation\n",
       "0            1  Student\n",
       "2            3  Student\n",
       "3            4  Student\n",
       "4            5  Student\n",
       "5            6  Student"
      ]
     },
     "execution_count": 15,
     "metadata": {},
     "output_type": "execute_result"
    }
   ],
   "source": [
    "# fix university affiliation\n",
    "\n",
    "# create dataframe of univ affiliation column - may need to change iloc \n",
    "univ_aff = pd.melt(pat_info.iloc[:,[0,8,9,10,11,12,13,14,15]],id_vars='Case Number', value_vars=[\n",
    "                                          'University Affiliation (choice=Student)',\n",
    "                                          'University Affiliation (choice=Employee)', \n",
    "                                          'University Affiliation (choice=Faculty)', \n",
    "                                          'University Affiliation (choice=Secondary Survivor)', \n",
    "                                          'University Affiliation (choice=Secondary Survivor (non-campus member))', \n",
    "                                          'University Affiliation (choice=Former Student)'], \n",
    "                   var_name='Univ Affiliation', value_name = 'Association')\n",
    "uni_check = univ_aff[univ_aff['Association'] == 'Checked'] # only keep when it is 'checked'\n",
    "uni_check['Relation'] = uni_check['Univ Affiliation'].apply(lambda x: re.split('=',x)[1][0:-1]) # split and only keep affiliation, remove last parentheses\n",
    "uni_relation = uni_check.drop(columns=['Univ Affiliation', 'Association']) #drop unneeded columns\n",
    "\n",
    "uni_relation.head()"
   ]
  },
  {
   "cell_type": "code",
   "execution_count": 16,
   "metadata": {},
   "outputs": [
    {
     "data": {
      "text/plain": [
       "(405, 57)"
      ]
     },
     "execution_count": 16,
     "metadata": {},
     "output_type": "execute_result"
    }
   ],
   "source": [
    "df = pat_info.drop(columns=['University Affiliation (choice=Employee)', \n",
    "                       'University Affiliation (choice=Faculty)', \n",
    "                       'University Affiliation (choice=Secondary Survivor)', \n",
    "                       'University Affiliation (choice=Secondary Survivor (non-campus member))', \n",
    "                       'University Affiliation (choice=Former Student)', \n",
    "                       'University Affiliation (choice=Other)',\n",
    "                       'University Affiliation (choice=Student)', \n",
    "                       'Pronouns'])\n",
    "df.shape\n",
    "pat_almost = df.merge(uni_relation, on='Case Number')  # merge with original dataframe\n",
    "pat_almost.shape # why are there more than 343? need to drop duplicates? how to combine if there are duplicates?"
   ]
  },
  {
   "cell_type": "code",
   "execution_count": 17,
   "metadata": {},
   "outputs": [],
   "source": [
    "# fix physical abuse experience\n",
    "phys_exp = pd.melt(pat_almost.iloc[:,[0,25,26,27,28,29]],id_vars='Case Number', value_vars=[\n",
    "                                          'Have you experienced physical abuse and/or assault? (choice=Unsure)',\n",
    "                                          'Have you experienced physical abuse and/or assault? (choice=Yes)'], \n",
    "                   var_name='Question', value_name = 'Physical Abuse Experience')\n",
    "\n",
    "\n",
    "phys_check = phys_exp[phys_exp['Physical Abuse Experience'] == 'Checked'] # only keep when it is checked\n",
    "phys_check['Physical Abuse Exp'] = phys_check['Question'].apply(lambda x: re.split('=',x)[1][0:-1]) # split and only keep affiliation, remove last parentheses\n",
    "phys_relation = phys_check.drop(columns=['Question', 'Physical Abuse Experience']) #drop unneeded columns\n"
   ]
  },
  {
   "cell_type": "code",
   "execution_count": 18,
   "metadata": {},
   "outputs": [],
   "source": [
    "pat_almost.merge(phys_relation, on='Case Number')\n",
    "\n",
    "pat_complete = pat_almost.drop(columns=['Have you experienced physical abuse and/or assault? (choice=Unsure)',\n",
    "                         'Have you experienced physical abuse and/or assault? (choice=Yes)',\n",
    "                         'Have you experienced physical abuse and/or assault? (choice=No)', \n",
    "                         'Have you experienced physical abuse and/or assault? (choice=Prefer not to disclose)'])"
   ]
  },
  {
   "cell_type": "code",
   "execution_count": 19,
   "metadata": {},
   "outputs": [],
   "source": [
    "def advocate_change(name):\n",
    "    if name == 'Ellie Goldberg':\n",
    "        return('A')\n",
    "    elif name == 'Darrah Jones':\n",
    "        return('B')\n",
    "    elif name == 'Benta Opiyo':\n",
    "        return('C')\n",
    "    elif name == 'Mahalia Lotz':\n",
    "        return('D')\n",
    "    elif name == 'Maria Skedros':\n",
    "        return('E')\n",
    "    elif name == 'Cody Lockyer':\n",
    "        return('F')\n",
    "    elif name == 'Char Leary':\n",
    "        return('G')\n",
    "    else:\n",
    "        return()"
   ]
  },
  {
   "cell_type": "code",
   "execution_count": 20,
   "metadata": {},
   "outputs": [],
   "source": [
    "pat_complete['Advocate'] = pat_complete['Advocate'].apply(lambda x: advocate_change(x)) # save over who the advocate is"
   ]
  },
  {
   "cell_type": "code",
   "execution_count": 21,
   "metadata": {},
   "outputs": [],
   "source": [
    "# tack on case count\n",
    "pat_end = pat_complete.merge(case_df, on='Case Number')"
   ]
  },
  {
   "cell_type": "code",
   "execution_count": 22,
   "metadata": {},
   "outputs": [
    {
     "data": {
      "text/plain": [
       "(405, 23)"
      ]
     },
     "execution_count": 22,
     "metadata": {},
     "output_type": "execute_result"
    }
   ],
   "source": [
    "pat_final = pat_end.drop(columns=['Best way to contact (choice=Phone)', \n",
    "                         'Best way to contact (choice=Email)', \n",
    "                         'Best way to contact (choice=Text Message)', \n",
    "                         'Best way to contact (choice=Other)', \n",
    "                         'Describe other',\n",
    "                         'New client?', \n",
    "                         'Intake', \n",
    "                         'Would the client like to be added to the CSW email list?',\n",
    "                         'How did you hear about us? (choice=Self)',\n",
    "                         'How did you hear about us? (choice=OEO)',\n",
    "                         'How did you hear about us? (choice=ODOS)',\n",
    "                         'How did you hear about us? (choice=Advocate Website (intake form))',\n",
    "                         'How did you hear about us? (choice=UCC)',\n",
    "                         'How did you hear about us? (choice=WRC)',\n",
    "                         'How did you hear about us? (choice=Friend)',\n",
    "                         'How did you hear about us? (choice=HR)',\n",
    "                         'How did you hear about us? (choice=Unknown)',\n",
    "                         'How did you hear about us? (choice=Other)', \n",
    "                         'Please specify other.1',\n",
    "                         'Other', # gender\n",
    "                         'Other.1', # sexuality\n",
    "                         'Other.2', # ethnicity\n",
    "                         'Other.3', # other vet status\n",
    "                         'Other.4', # immigration status other\n",
    "                         'Specify greek affiliation',\n",
    "                         'Country of origin (if known).1',\n",
    "                         'Complete?' ,\n",
    "                         'Specify first language',\n",
    "                         'Specify athletics affiliation',\n",
    "                         'Please specify other', \n",
    "                         'Has TSA Informed Consent Form been signed and received from the client?'])\n",
    "\n",
    "pat_final.shape"
   ]
  },
  {
   "cell_type": "code",
   "execution_count": 23,
   "metadata": {},
   "outputs": [],
   "source": [
    "pat_last = pat_final.merge(ct_clean, on='Case Number')"
   ]
  },
  {
   "cell_type": "code",
   "execution_count": 24,
   "metadata": {},
   "outputs": [
    {
     "data": {
      "text/plain": [
       "(361, 25)"
      ]
     },
     "execution_count": 24,
     "metadata": {},
     "output_type": "execute_result"
    }
   ],
   "source": [
    "pat_last.shape"
   ]
  },
  {
   "cell_type": "code",
   "execution_count": 25,
   "metadata": {},
   "outputs": [],
   "source": [
    "pat_last.to_csv('patient_data.csv')"
   ]
  }
 ],
 "metadata": {
  "kernelspec": {
   "display_name": "Python 3",
   "language": "python",
   "name": "python3"
  },
  "language_info": {
   "codemirror_mode": {
    "name": "ipython",
    "version": 3
   },
   "file_extension": ".py",
   "mimetype": "text/x-python",
   "name": "python",
   "nbconvert_exporter": "python",
   "pygments_lexer": "ipython3",
   "version": "3.7.4"
  }
 },
 "nbformat": 4,
 "nbformat_minor": 2
}
